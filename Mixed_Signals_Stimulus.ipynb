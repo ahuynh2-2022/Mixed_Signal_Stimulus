{
 "cells": [
  {
   "cell_type": "markdown",
   "id": "e058f978",
   "metadata": {},
   "source": [
    "# Creating stimulus for Mixed Signals condition\n",
    "\n",
    "## Making use of the Google Text to Speech API (gTTS API)\n",
    "\n",
    "### Initial commit by Aaron Huynh\n",
    "### Last updated: 26 February 2022"
   ]
  },
  {
   "cell_type": "code",
   "execution_count": 2,
   "id": "fb7c3705",
   "metadata": {},
   "outputs": [],
   "source": [
    "from gtts import gTTS"
   ]
  },
  {
   "cell_type": "code",
   "execution_count": 8,
   "id": "b696e4d2",
   "metadata": {},
   "outputs": [],
   "source": [
    "# list of potential stimulus for mixed signal experimental condition\n",
    "numbers = ['Zero', 'One', 'Two', 'Three', 'Four', 'Five', 'Six', 'Seven', 'Eight', 'Nine', 'Ten'];\n",
    "\n",
    "for i in range(len(numbers)):\n",
    "    stimulus = gTTS(numbers[i], lang = 'en')\n",
    "    stimulus.save(\"mixed_signals_numbers_%s.mp3\" % numbers[i])\n",
    "    stimulus.save(\"mixed_signals_numbers_%s.mp4\" % numbers[i])\n",
    "    \n",
    "colors = ['Blue', 'Red', 'Orange', 'Yellow', 'Green', 'Purple', 'Pink', 'White', 'Black',' Grey', 'Brown'];\n",
    "\n",
    "for i in range(len(colors)):\n",
    "    stimulus = gTTS(colors[i], lang = 'en')\n",
    "    stimulus.save(\"mixed_signals_colors_%s.mp3\" % colors[i])\n",
    "    stimulus.save(\"mixed_signals_colors_%s.mp4\" % colors[i])\n",
    "\n",
    "    \n",
    "alphabet = ['A', 'B', 'C', 'D', 'E', 'F', 'G', 'H', 'I', 'J', 'K','L', 'M', 'N', 'O', 'P', 'Q', 'R', 'S', 'T', 'U', 'V', 'W', 'X', 'Y', 'Z'];\n",
    "\n",
    "for i in range(len(alphabet)):\n",
    "    stimulus = gTTS(alphabet[i], lang = 'en')\n",
    "    stimulus.save(\"mixed_signals_alphabet_%s.mp3\" % alphabet[i])\n",
    "    stimulus.save(\"mixed_signals_alphabet_%s.mp4\" % alphabet[i])\n",
    "    "
   ]
  }
 ],
 "metadata": {
  "kernelspec": {
   "display_name": "Python 3 (ipykernel)",
   "language": "python",
   "name": "python3"
  },
  "language_info": {
   "codemirror_mode": {
    "name": "ipython",
    "version": 3
   },
   "file_extension": ".py",
   "mimetype": "text/x-python",
   "name": "python",
   "nbconvert_exporter": "python",
   "pygments_lexer": "ipython3",
   "version": "3.9.8"
  }
 },
 "nbformat": 4,
 "nbformat_minor": 5
}
